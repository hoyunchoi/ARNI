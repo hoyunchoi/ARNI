{
 "cells": [
  {
   "cell_type": "code",
   "execution_count": 1,
   "source": [
    "import os\n",
    "import numpy as np\n",
    "import matplotlib.pyplot as plt\n",
    "from pathlib import Path\n",
    "\n",
    "from Common import NetworkList, ModelList, BasisList\n",
    "from Reconstruction import Reconstruction\n",
    "from Evaluation import Evaluation"
   ],
   "outputs": [],
   "metadata": {}
  },
  {
   "cell_type": "markdown",
   "source": [
    "# Parameters"
   ],
   "metadata": {}
  },
  {
   "cell_type": "code",
   "execution_count": 2,
   "source": [
    "rootDirectory = '/pds/pds11/hoyun/ARNI/data'\n",
    "\n",
    "#* Network parameter\n",
    "networkSize = 25\n",
    "meanDegree = 6\n",
    "network_cls = NetworkList.ER.value\n",
    "directed = True\n",
    "\n",
    "#* Model parameters\n",
    "model_cls, model_name = ModelList.kuramoto1.value\n",
    "\n",
    "#* Simulation parameters\n",
    "length = 10\n",
    "ensemble = 50\n",
    "dataDirectory = os.path.join(rootDirectory, model_name)\n",
    "Path(dataDirectory).mkdir(parents=True, exist_ok=True)\n"
   ],
   "outputs": [],
   "metadata": {}
  },
  {
   "cell_type": "markdown",
   "source": [
    "# Simulation"
   ],
   "metadata": {}
  },
  {
   "cell_type": "code",
   "execution_count": 3,
   "source": [
    "network = network_cls(networkSize, meanDegree)        # Create network instance\n",
    "\n",
    "#*  Generate network\n",
    "######################################################\n",
    "# adjacency = network.getAdjacency(directed)            # Create network (adjacency matrix)\n",
    "# network.save(dataDirectory)                           # Save adjacency matrix\n",
    "######################################################\n",
    "\n",
    "\n",
    "#* Read network\n",
    "######################################################\n",
    "adjPath = os.path.join(dataDirectory, 'adjacency.dat')\n",
    "adjacency = np.loadtxt(adjPath)\n",
    "adjacency = np.loadtxt('/pds/pds11/hoyun/ARNI/Data/connectivity.dat')\n",
    "######################################################\n"
   ],
   "outputs": [],
   "metadata": {}
  },
  {
   "cell_type": "code",
   "execution_count": 4,
   "source": [
    "model = model_cls(adjacency)                            # Create model instance\n",
    "\n",
    "#* Generate data\n",
    "######################################################\n",
    "# data = model.run(length, ensemble)                      # Run model\n",
    "# model.save(dataDirectory)                               # Save model time series data\n",
    "######################################################\n",
    "\n",
    "\n",
    "#* Read data\n",
    "######################################################\n",
    "dataPath = os.path.join(dataDirectory, 'data.npy')\n",
    "data = np.load(dataPath)\n",
    "data = np.loadtxt('/pds/pds11/hoyun/ARNI/Data/data.dat')\n",
    "######################################################\n"
   ],
   "outputs": [],
   "metadata": {}
  },
  {
   "cell_type": "markdown",
   "source": [
    "# Reconstruction"
   ],
   "metadata": {}
  },
  {
   "cell_type": "code",
   "execution_count": 21,
   "source": [
    "######################################################\n",
    "#* Reconstruction parameters\n",
    "nodeIdx = 1\n",
    "basis_cls = BasisList.fourierDiff.value\n",
    "maxOrder = 6\n",
    "trueNeighbors = adjacency[nodeIdx]\n",
    "numNeighbors = np.count_nonzero(trueNeighbors)\n",
    "trueNeighbors = np.argsort(trueNeighbors)[::-1]\n",
    "trueNeighbors = trueNeighbors[:numNeighbors]\n",
    "print(f'True neighbors: {trueNeighbors}')\n",
    "######################################################"
   ],
   "outputs": [
    {
     "output_type": "stream",
     "name": "stdout",
     "text": [
      "True neighbors: [ 9 20 18 16 11]\n"
     ]
    }
   ],
   "metadata": {}
  },
  {
   "cell_type": "markdown",
   "source": [
    "## Reconstruct simulation data of nodeIdx with basis"
   ],
   "metadata": {}
  },
  {
   "cell_type": "code",
   "execution_count": 22,
   "source": [
    "arni = Reconstruction(data, nodeIdx)            # Reconstruction instance is created\n",
    "dynamics = arni.getDynamics()                   # Dynamics is created from raw data\n",
    "\n",
    "# Expand dynamics with basis\n",
    "basis = basis_cls(dynamics, nodeIdx, maxOrder)  # Basis instance is created\n",
    "basisExpansion = basis.expand()                 # Dynamics is expanded by basis\n",
    "\n",
    "# Reconstruct interaction with basis expansion\n",
    "neighbors, adjacencyProb, costArray = arni.reconstruct(basisExpansion)\n"
   ],
   "outputs": [],
   "metadata": {}
  },
  {
   "cell_type": "markdown",
   "source": [
    "# Evaluation"
   ],
   "metadata": {}
  },
  {
   "cell_type": "code",
   "execution_count": 23,
   "source": [
    "print(f'Reconstructed neighbors: {neighbors}')\n",
    "# print(f'Probability: {[adjacencyProb[neighbors]]}')\n",
    "print(f'probability: {adjacencyProb}')\n",
    "print(f'True neighbors: {trueNeighbors}')\n"
   ],
   "outputs": [
    {
     "output_type": "stream",
     "name": "stdout",
     "text": [
      "Reconstructed neighbors: [ 9 11 18 20 16 15  2 14  5]\n",
      "probability: [0.         0.         0.01021435 0.         0.         0.00943173\n",
      " 0.         0.         0.         0.15428919 0.         0.12933864\n",
      " 0.         0.         0.00981437 0.01078274 0.01240604 0.\n",
      " 0.10002796 0.         0.05564777 0.         0.         0.\n",
      " 0.        ]\n",
      "True neighbors: [ 9 20 18 16 11]\n"
     ]
    }
   ],
   "metadata": {}
  },
  {
   "cell_type": "code",
   "execution_count": 24,
   "source": [
    "evaluator = Evaluation(adjacency, model)\n",
    "\n",
    "fpr, tpr, aucScore = evaluator.evaluate(nodeIdx, adjacencyProb)\n"
   ],
   "outputs": [],
   "metadata": {}
  },
  {
   "cell_type": "code",
   "execution_count": 25,
   "source": [
    "fig, ax = plt.subplots(figsize=(8,8))\n",
    "\n",
    "ax.plot(fpr, tpr, 'o-')\n",
    "ax.set_title(f'AUC-score: {aucScore:.4f}', fontsize=30)\n",
    "ax.set_xlabel('FPR', fontsize=30)\n",
    "ax.set_ylabel('TPR', fontsize=30)\n",
    "ax.set_xlim(0, 1)\n",
    "ax.set_ylim(0, 1)\n",
    "\n",
    "fig.show()"
   ],
   "outputs": [
    {
     "output_type": "display_data",
     "data": {
      "image/png": "[encoded data removed]",
      "text/plain": [
       "<Figure size 576x576 with 1 Axes>"
      ]
     },
     "metadata": {
      "needs_background": "light"
     }
    }
   ],
   "metadata": {}
  },
  {
   "cell_type": "code",
   "execution_count": 26,
   "source": [
    "fig, ax = plt.subplots(figsize=(8, 5))\n",
    "\n",
    "ax.plot(np.arange(1, len(costArray)+1), costArray, 'o-')\n",
    "for i, c in enumerate(costArray):\n",
    "    ax.text(1+1.01 * i, c, neighbors[i], fontsize=15)\n",
    "\n",
    "ax.set_xlabel(\"number of neighbors\", fontsize=30)\n",
    "ax.set_ylabel(\"MSE error\", fontsize=30)\n",
    "\n",
    "fig.show()"
   ],
   "outputs": [
    {
     "output_type": "display_data",
     "data": {
      "image/png": "[encoded data removed]",
      "text/plain": [
       "<Figure size 576x360 with 1 Axes>"
      ]
     },
     "metadata": {
      "needs_background": "light"
     }
    }
   ],
   "metadata": {}
  },
  {
   "cell_type": "code",
   "execution_count": null,
   "source": [],
   "outputs": [],
   "metadata": {}
  }
 ],
 "metadata": {
  "orig_nbformat": 4,
  "language_info": {
   "name": "python",
   "version": "3.9.7",
   "mimetype": "text/x-python",
   "codemirror_mode": {
    "name": "ipython",
    "version": 3
   },
   "pygments_lexer": "ipython3",
   "nbconvert_exporter": "python",
   "file_extension": ".py"
  },
  "kernelspec": {
   "name": "python3",
   "display_name": "Python 3.9.7 64-bit ('base': conda)"
  },
  "interpreter": {
   "hash": "2833c8e4667a8cd291e93d6ea6c7a8023d3a11b05be21fbf12e6ed097efc19d8"
  }
 },
 "nbformat": 4,
 "nbformat_minor": 2
}